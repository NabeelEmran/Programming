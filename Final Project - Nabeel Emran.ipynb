{
 "cells": [
  {
   "cell_type": "markdown",
   "metadata": {},
   "source": [
    "# Final Project\n",
    "## Nabeel Emran\n",
    "### 12/7/2023"
   ]
  },
  {
   "cell_type": "markdown",
   "metadata": {},
   "source": [
    "***"
   ]
  },
  {
   "cell_type": "markdown",
   "metadata": {},
   "source": [
    "#### Importing Relevant Packages"
   ]
  },
  {
   "cell_type": "code",
   "execution_count": 1,
   "metadata": {},
   "outputs": [],
   "source": [
    "import pandas as pd\n",
    "import numpy as np\n",
    "import altair as alt\n",
    "import seaborn as sns\n",
    "\n",
    "from sklearn.linear_model import LogisticRegression\n",
    "from sklearn.model_selection import train_test_split\n",
    "from sklearn.metrics import classification_report\n",
    "from sklearn.metrics import confusion_matrix"
   ]
  },
  {
   "cell_type": "markdown",
   "metadata": {},
   "source": [
    "#### Q1: Read in the data, call the dataframe \"s\"  and check the dimensions of the dataframe"
   ]
  },
  {
   "cell_type": "code",
   "execution_count": 2,
   "metadata": {},
   "outputs": [
    {
     "data": {
      "text/plain": [
       "(1502, 89)"
      ]
     },
     "execution_count": 2,
     "metadata": {},
     "output_type": "execute_result"
    }
   ],
   "source": [
    "s = pd.read_csv(\"social_media_usage.csv\")\n",
    "s.shape #There are 1,502 rows and 89 collumns "
   ]
  },
  {
   "cell_type": "markdown",
   "metadata": {},
   "source": [
    "***"
   ]
  },
  {
   "cell_type": "markdown",
   "metadata": {},
   "source": [
    "#### Q2: Define a function called clean_sm that takes one input, x, and uses `np.where` to check whether x is equal to 1. If it is, make the value of x = 1, otherwise make it 0. Return x. Create a toy dataframe with three rows and two columns and test your function to make sure it works as expected."
   ]
  },
  {
   "cell_type": "code",
   "execution_count": 3,
   "metadata": {},
   "outputs": [
    {
     "data": {
      "text/plain": [
       "array([[1, 0],\n",
       "       [0, 1],\n",
       "       [0, 1]])"
      ]
     },
     "execution_count": 3,
     "metadata": {},
     "output_type": "execute_result"
    }
   ],
   "source": [
    "#Creating Function: \n",
    "def clean_sm(x): \n",
    "    x = np.where(x == 1,1,0)\n",
    "    return x \n",
    "\n",
    "#Creating toy dataframe: \n",
    "toy_data = {\"Collumn 1\": [1,2,3],\n",
    "           \"Collumn 2\": [5,1,1]}\n",
    "\n",
    "toy_dataframe = pd.DataFrame(toy_data)\n",
    "\n",
    "#Testing the function: \n",
    "clean_sm(toy_dataframe)\n",
    "\n",
    "#It appears to work. "
   ]
  },
  {
   "cell_type": "markdown",
   "metadata": {},
   "source": [
    "***"
   ]
  },
  {
   "cell_type": "markdown",
   "metadata": {},
   "source": [
    "#### Q3: Create a new dataframe called \"ss\". The new dataframe should contain a target column called sm_li which should be a binary variable ( that takes the value of 1 if it is 1 and 0 otherwise (use clean_sm to create this) which indicates whether or not the individual uses LinkedIn, and the following features: income (ordered numeric from 1 to 9, above 9 considered missing), education (ordered numeric from 1 to 8, above 8 considered missing), parent (binary), married (binary), female (binary), and age (numeric, above 98 considered missing). Drop any missing values. Perform exploratory analysis to examine how the features are related to the target."
   ]
  },
  {
   "cell_type": "markdown",
   "metadata": {},
   "source": [
    "Written Answer: \n",
    "\n",
    "With resepct to the exploratory analysis, the staff created a corrleation heatmap to determine which depedent variables were highly correlated to one another. The staff found few depedent variables were highly correlated to one another. The staff also created multiple scatterplots to identify any potential relationships between the depedent variables and the target variable (smi_li). The staff identified that income appeared to be positively correlated to the target variable. "
   ]
  },
  {
   "cell_type": "code",
   "execution_count": 4,
   "metadata": {},
   "outputs": [
    {
     "data": {
      "text/plain": [
       "(1253, 7)"
      ]
     },
     "execution_count": 4,
     "metadata": {},
     "output_type": "execute_result"
    }
   ],
   "source": [
    "#Initial Creation of Blank Dataframe \n",
    "ss = pd.DataFrame({\n",
    "    \"smi_li\": clean_sm(s[\"web1h\"]),\n",
    "    \"income\": np.where(s[\"income\"] > 9, np.nan, s[\"income\"]),\n",
    "    \"education\": np.where(s[\"educ2\"] > 8, np.nan, s[\"educ2\"]),\n",
    "    \"parent\": np.where(s[\"par\"]==1, 1, np.where(s[\"par\"] == 2, 0, np.nan)),\n",
    "    \"married\": np.where(s[\"marital\"]==1, 1, np.where(s[\"marital\"]>= 8, np.nan, 0)), \n",
    "    \"female\": np.where(s[\"gender\"]==2, 1, np.where(s[\"gender\"]>=98, np.nan, 0)), \n",
    "    \"age\": np.where(s[\"age\"]>=98, np.nan, s[\"age\"])\n",
    "})\n",
    "\n",
    "#Dropping Missing Values\n",
    "ss = ss.dropna()\n",
    "\n",
    "#Checking Rows and Collumns\n",
    "ss.shape # 1,253 rows and 7 collumns. \n"
   ]
  },
  {
   "cell_type": "code",
   "execution_count": 5,
   "metadata": {},
   "outputs": [
    {
     "data": {
      "text/html": [
       "<div>\n",
       "<style scoped>\n",
       "    .dataframe tbody tr th:only-of-type {\n",
       "        vertical-align: middle;\n",
       "    }\n",
       "\n",
       "    .dataframe tbody tr th {\n",
       "        vertical-align: top;\n",
       "    }\n",
       "\n",
       "    .dataframe thead th {\n",
       "        text-align: right;\n",
       "    }\n",
       "</style>\n",
       "<table border=\"1\" class=\"dataframe\">\n",
       "  <thead>\n",
       "    <tr style=\"text-align: right;\">\n",
       "      <th></th>\n",
       "      <th>smi_li</th>\n",
       "      <th>income</th>\n",
       "      <th>education</th>\n",
       "      <th>parent</th>\n",
       "      <th>married</th>\n",
       "      <th>female</th>\n",
       "      <th>age</th>\n",
       "    </tr>\n",
       "  </thead>\n",
       "  <tbody>\n",
       "    <tr>\n",
       "      <th>0</th>\n",
       "      <td>0</td>\n",
       "      <td>6.0</td>\n",
       "      <td>4.0</td>\n",
       "      <td>0.0</td>\n",
       "      <td>0.0</td>\n",
       "      <td>1.0</td>\n",
       "      <td>77.0</td>\n",
       "    </tr>\n",
       "    <tr>\n",
       "      <th>1</th>\n",
       "      <td>0</td>\n",
       "      <td>5.0</td>\n",
       "      <td>3.0</td>\n",
       "      <td>0.0</td>\n",
       "      <td>0.0</td>\n",
       "      <td>0.0</td>\n",
       "      <td>59.0</td>\n",
       "    </tr>\n",
       "    <tr>\n",
       "      <th>2</th>\n",
       "      <td>0</td>\n",
       "      <td>8.0</td>\n",
       "      <td>4.0</td>\n",
       "      <td>0.0</td>\n",
       "      <td>1.0</td>\n",
       "      <td>1.0</td>\n",
       "      <td>60.0</td>\n",
       "    </tr>\n",
       "    <tr>\n",
       "      <th>3</th>\n",
       "      <td>0</td>\n",
       "      <td>8.0</td>\n",
       "      <td>8.0</td>\n",
       "      <td>0.0</td>\n",
       "      <td>0.0</td>\n",
       "      <td>0.0</td>\n",
       "      <td>73.0</td>\n",
       "    </tr>\n",
       "    <tr>\n",
       "      <th>4</th>\n",
       "      <td>1</td>\n",
       "      <td>7.0</td>\n",
       "      <td>8.0</td>\n",
       "      <td>0.0</td>\n",
       "      <td>1.0</td>\n",
       "      <td>1.0</td>\n",
       "      <td>65.0</td>\n",
       "    </tr>\n",
       "  </tbody>\n",
       "</table>\n",
       "</div>"
      ],
      "text/plain": [
       "   smi_li  income  education  parent  married  female   age\n",
       "0       0     6.0        4.0     0.0      0.0     1.0  77.0\n",
       "1       0     5.0        3.0     0.0      0.0     0.0  59.0\n",
       "2       0     8.0        4.0     0.0      1.0     1.0  60.0\n",
       "3       0     8.0        8.0     0.0      0.0     0.0  73.0\n",
       "4       1     7.0        8.0     0.0      1.0     1.0  65.0"
      ]
     },
     "execution_count": 5,
     "metadata": {},
     "output_type": "execute_result"
    }
   ],
   "source": [
    "#Exploratory Analysis: \n",
    "\n",
    "#High Level Review of SS Dataframe:\n",
    "ss.head()"
   ]
  },
  {
   "cell_type": "code",
   "execution_count": 6,
   "metadata": {},
   "outputs": [
    {
     "data": {
      "text/plain": [
       "<Axes: >"
      ]
     },
     "execution_count": 6,
     "metadata": {},
     "output_type": "execute_result"
    },
    {
     "data": {
      "image/png": "[encoded data removed]",
      "text/plain": [
       "<Figure size 640x480 with 2 Axes>"
      ]
     },
     "metadata": {},
     "output_type": "display_data"
    }
   ],
   "source": [
    "#Exploratory Analysis\n",
    "\n",
    "#Collinearity Heatmap: \n",
    "sns.heatmap(ss.corr(), center=0)\n"
   ]
  },
  {
   "cell_type": "code",
   "execution_count": 7,
   "metadata": {},
   "outputs": [
    {
     "data": {
      "text/html": [
       "\n",
       "<style>\n",
       "  #altair-viz-f6f6ea4f58734f93b008e280db6d7a65.vega-embed {\n",
       "    width: 100%;\n",
       "    display: flex;\n",
       "  }\n",
       "\n",
       "  #altair-viz-f6f6ea4f58734f93b008e280db6d7a65.vega-embed details,\n",
       "  #altair-viz-f6f6ea4f58734f93b008e280db6d7a65.vega-embed details summary {\n",
       "    position: relative;\n",
       "  }\n",
       "</style>\n",
       "<div id=\"altair-viz-f6f6ea4f58734f93b008e280db6d7a65\"></div>\n",
       "<script type=\"text/javascript\">\n",
       "  var VEGA_DEBUG = (typeof VEGA_DEBUG == \"undefined\") ? {} : VEGA_DEBUG;\n",
       "  (function(spec, embedOpt){\n",
       "    let outputDiv = document.currentScript.previousElementSibling;\n",
       "    if (outputDiv.id !== \"altair-viz-f6f6ea4f58734f93b008e280db6d7a65\") {\n",
       "      outputDiv = document.getElementById(\"altair-viz-f6f6ea4f58734f93b008e280db6d7a65\");\n",
       "    }\n",
       "    const paths = {\n",
       "      \"vega\": \"https://cdn.jsdelivr.net/npm/vega@5?noext\",\n",
       "      \"vega-lib\": \"https://cdn.jsdelivr.net/npm/vega-lib?noext\",\n",
       "      \"vega-lite\": \"https://cdn.jsdelivr.net/npm/vega-lite@5.15.1?noext\",\n",
       "      \"vega-embed\": \"https://cdn.jsdelivr.net/npm/vega-embed@6?noext\",\n",
       "    };\n",
       "\n",
       "    function maybeLoadScript(lib, version) {\n",
       "      var key = `${lib.replace(\"-\", \"\")}_version`;\n",
       "      return (VEGA_DEBUG[key] == version) ?\n",
       "        Promise.resolve(paths[lib]) :\n",
       "        new Promise(function(resolve, reject) {\n",
       "          var s = document.createElement('script');\n",
       "          document.getElementsByTagName(\"head\")[0].appendChild(s);\n",
       "          s.async = true;\n",
       "          s.onload = () => {\n",
       "            VEGA_DEBUG[key] = version;\n",
       "            return resolve(paths[lib]);\n",
       "          };\n",
       "          s.onerror = () => reject(`Error loading script: ${paths[lib]}`);\n",
       "          s.src = paths[lib];\n",
       "        });\n",
       "    }\n",
       "\n",
       "    function showError(err) {\n",
       "      outputDiv.innerHTML = `<div class=\"error\" style=\"color:red;\">${err}</div>`;\n",
       "      throw err;\n",
       "    }\n",
       "\n",
       "    function displayChart(vegaEmbed) {\n",
       "      vegaEmbed(outputDiv, spec, embedOpt)\n",
       "        .catch(err => showError(`Javascript Error: ${err.message}<br>This usually means there's a typo in your chart specification. See the javascript console for the full traceback.`));\n",
       "    }\n",
       "\n",
       "    if(typeof define === \"function\" && define.amd) {\n",
       "      requirejs.config({paths});\n",
       "      require([\"vega-embed\"], displayChart, err => showError(`Error loading script: ${err.message}`));\n",
       "    } else {\n",
       "      maybeLoadScript(\"vega\", \"5\")\n",
       "        .then(() => maybeLoadScript(\"vega-lite\", \"5.15.1\"))\n",
       "        .then(() => maybeLoadScript(\"vega-embed\", \"6\"))\n",
       "        .catch(showError)\n",
       "        .then(() => displayChart(vegaEmbed));\n",
       "    }\n",
       "  })({\"config\": {\"view\": {\"continuousWidth\": 300, \"continuousHeight\": 300}}, \"data\": {\"name\": \"data-6c0235d2aed6352a78b3b8d77d1952ab\"}, \"mark\": {\"type\": \"circle\"}, \"encoding\": {\"color\": {\"field\": \"female\", \"type\": \"nominal\"}, \"x\": {\"field\": \"income\", \"type\": \"quantitative\"}, \"y\": {\"field\": \"smi_li\", \"type\": \"quantitative\"}}, \"$schema\": \"https://vega.github.io/schema/vega-lite/v5.15.1.json\", \"datasets\": {\"data-6c0235d2aed6352a78b3b8d77d1952ab\": [{\"income\": 1.0, \"female\": 0.0, \"smi_li\": 0.10256410256410256}, {\"income\": 1.0, \"female\": 1.0, \"smi_li\": 0.10714285714285714}, {\"income\": 2.0, \"female\": 0.0, \"smi_li\": 0.14285714285714285}, {\"income\": 2.0, \"female\": 1.0, \"smi_li\": 0.12}, {\"income\": 3.0, \"female\": 0.0, \"smi_li\": 0.1694915254237288}, {\"income\": 3.0, \"female\": 1.0, \"smi_li\": 0.1276595744680851}, {\"income\": 4.0, \"female\": 0.0, \"smi_li\": 0.37037037037037035}, {\"income\": 4.0, \"female\": 1.0, \"smi_li\": 0.14285714285714285}, {\"income\": 5.0, \"female\": 0.0, \"smi_li\": 0.16326530612244897}, {\"income\": 5.0, \"female\": 1.0, \"smi_li\": 0.28205128205128205}, {\"income\": 6.0, \"female\": 0.0, \"smi_li\": 0.17592592592592593}, {\"income\": 6.0, \"female\": 1.0, \"smi_li\": 0.2328767123287671}, {\"income\": 7.0, \"female\": 0.0, \"smi_li\": 0.4528301886792453}, {\"income\": 7.0, \"female\": 1.0, \"smi_li\": 0.4166666666666667}, {\"income\": 8.0, \"female\": 0.0, \"smi_li\": 0.49166666666666664}, {\"income\": 8.0, \"female\": 1.0, \"smi_li\": 0.463768115942029}, {\"income\": 9.0, \"female\": 0.0, \"smi_li\": 0.6180555555555556}, {\"income\": 9.0, \"female\": 1.0, \"smi_li\": 0.4861111111111111}]}}, {\"mode\": \"vega-lite\"});\n",
       "</script>"
      ],
      "text/plain": [
       "alt.Chart(...)"
      ]
     },
     "execution_count": 7,
     "metadata": {},
     "output_type": "execute_result"
    }
   ],
   "source": [
    "#Exploratory Analysis: \n",
    "\n",
    "#Predictor Variables (Income & Gender) Analysis to Target Variable \n",
    "alt.Chart(ss.groupby([\"income\", \"female\"], as_index=False)[\"smi_li\"].mean()).\\\n",
    "mark_circle().\\\n",
    "encode(x=\"income\",\n",
    "      y=\"smi_li\",\n",
    "      color=\"female:N\")\n"
   ]
  },
  {
   "cell_type": "code",
   "execution_count": 8,
   "metadata": {},
   "outputs": [
    {
     "data": {
      "text/html": [
       "\n",
       "<style>\n",
       "  #altair-viz-188bece9ead4477b99a54dd5d44537e8.vega-embed {\n",
       "    width: 100%;\n",
       "    display: flex;\n",
       "  }\n",
       "\n",
       "  #altair-viz-188bece9ead4477b99a54dd5d44537e8.vega-embed details,\n",
       "  #altair-viz-188bece9ead4477b99a54dd5d44537e8.vega-embed details summary {\n",
       "    position: relative;\n",
       "  }\n",
       "</style>\n",
       "<div id=\"altair-viz-188bece9ead4477b99a54dd5d44537e8\"></div>\n",
       "<script type=\"text/javascript\">\n",
       "  var VEGA_DEBUG = (typeof VEGA_DEBUG == \"undefined\") ? {} : VEGA_DEBUG;\n",
       "  (function(spec, embedOpt){\n",
       "    let outputDiv = document.currentScript.previousElementSibling;\n",
       "    if (outputDiv.id !== \"altair-viz-188bece9ead4477b99a54dd5d44537e8\") {\n",
       "      outputDiv = document.getElementById(\"altair-viz-188bece9ead4477b99a54dd5d44537e8\");\n",
       "    }\n",
       "    const paths = {\n",
       "      \"vega\": \"https://cdn.jsdelivr.net/npm/vega@5?noext\",\n",
       "      \"vega-lib\": \"https://cdn.jsdelivr.net/npm/vega-lib?noext\",\n",
       "      \"vega-lite\": \"https://cdn.jsdelivr.net/npm/vega-lite@5.15.1?noext\",\n",
       "      \"vega-embed\": \"https://cdn.jsdelivr.net/npm/vega-embed@6?noext\",\n",
       "    };\n",
       "\n",
       "    function maybeLoadScript(lib, version) {\n",
       "      var key = `${lib.replace(\"-\", \"\")}_version`;\n",
       "      return (VEGA_DEBUG[key] == version) ?\n",
       "        Promise.resolve(paths[lib]) :\n",
       "        new Promise(function(resolve, reject) {\n",
       "          var s = document.createElement('script');\n",
       "          document.getElementsByTagName(\"head\")[0].appendChild(s);\n",
       "          s.async = true;\n",
       "          s.onload = () => {\n",
       "            VEGA_DEBUG[key] = version;\n",
       "            return resolve(paths[lib]);\n",
       "          };\n",
       "          s.onerror = () => reject(`Error loading script: ${paths[lib]}`);\n",
       "          s.src = paths[lib];\n",
       "        });\n",
       "    }\n",
       "\n",
       "    function showError(err) {\n",
       "      outputDiv.innerHTML = `<div class=\"error\" style=\"color:red;\">${err}</div>`;\n",
       "      throw err;\n",
       "    }\n",
       "\n",
       "    function displayChart(vegaEmbed) {\n",
       "      vegaEmbed(outputDiv, spec, embedOpt)\n",
       "        .catch(err => showError(`Javascript Error: ${err.message}<br>This usually means there's a typo in your chart specification. See the javascript console for the full traceback.`));\n",
       "    }\n",
       "\n",
       "    if(typeof define === \"function\" && define.amd) {\n",
       "      requirejs.config({paths});\n",
       "      require([\"vega-embed\"], displayChart, err => showError(`Error loading script: ${err.message}`));\n",
       "    } else {\n",
       "      maybeLoadScript(\"vega\", \"5\")\n",
       "        .then(() => maybeLoadScript(\"vega-lite\", \"5.15.1\"))\n",
       "        .then(() => maybeLoadScript(\"vega-embed\", \"6\"))\n",
       "        .catch(showError)\n",
       "        .then(() => displayChart(vegaEmbed));\n",
       "    }\n",
       "  })({\"config\": {\"view\": {\"continuousWidth\": 300, \"continuousHeight\": 300}}, \"data\": {\"name\": \"data-8cfa68f7ef040b9a2d8fb351d86e056f\"}, \"mark\": {\"type\": \"circle\"}, \"encoding\": {\"color\": {\"field\": \"married\", \"type\": \"nominal\"}, \"x\": {\"field\": \"age\", \"type\": \"quantitative\"}, \"y\": {\"field\": \"smi_li\", \"type\": \"quantitative\"}}, \"$schema\": \"https://vega.github.io/schema/vega-lite/v5.15.1.json\", \"datasets\": {\"data-8cfa68f7ef040b9a2d8fb351d86e056f\": [{\"age\": 18.0, \"married\": 0.0, \"smi_li\": 0.05263157894736842}, {\"age\": 19.0, \"married\": 0.0, \"smi_li\": 0.16666666666666666}, {\"age\": 20.0, \"married\": 0.0, \"smi_li\": 0.3333333333333333}, {\"age\": 21.0, \"married\": 0.0, \"smi_li\": 0.42857142857142855}, {\"age\": 21.0, \"married\": 1.0, \"smi_li\": 0.0}, {\"age\": 22.0, \"married\": 0.0, \"smi_li\": 0.35}, {\"age\": 22.0, \"married\": 1.0, \"smi_li\": 1.0}, {\"age\": 23.0, \"married\": 0.0, \"smi_li\": 0.5294117647058824}, {\"age\": 23.0, \"married\": 1.0, \"smi_li\": 0.6666666666666666}, {\"age\": 24.0, \"married\": 0.0, \"smi_li\": 0.5882352941176471}, {\"age\": 24.0, \"married\": 1.0, \"smi_li\": 0.0}, {\"age\": 25.0, \"married\": 0.0, \"smi_li\": 0.42105263157894735}, {\"age\": 25.0, \"married\": 1.0, \"smi_li\": 0.0}, {\"age\": 26.0, \"married\": 0.0, \"smi_li\": 0.5833333333333334}, {\"age\": 26.0, \"married\": 1.0, \"smi_li\": 0.0}, {\"age\": 27.0, \"married\": 0.0, \"smi_li\": 0.46153846153846156}, {\"age\": 27.0, \"married\": 1.0, \"smi_li\": 0.5}, {\"age\": 28.0, \"married\": 0.0, \"smi_li\": 0.35294117647058826}, {\"age\": 28.0, \"married\": 1.0, \"smi_li\": 0.4}, {\"age\": 29.0, \"married\": 0.0, \"smi_li\": 0.0}, {\"age\": 30.0, \"married\": 0.0, \"smi_li\": 0.3333333333333333}, {\"age\": 30.0, \"married\": 1.0, \"smi_li\": 0.38461538461538464}, {\"age\": 31.0, \"married\": 0.0, \"smi_li\": 0.3333333333333333}, {\"age\": 31.0, \"married\": 1.0, \"smi_li\": 0.3333333333333333}, {\"age\": 32.0, \"married\": 0.0, \"smi_li\": 0.14285714285714285}, {\"age\": 32.0, \"married\": 1.0, \"smi_li\": 0.42857142857142855}, {\"age\": 33.0, \"married\": 0.0, \"smi_li\": 0.375}, {\"age\": 33.0, \"married\": 1.0, \"smi_li\": 0.7142857142857143}, {\"age\": 34.0, \"married\": 0.0, \"smi_li\": 0.4444444444444444}, {\"age\": 34.0, \"married\": 1.0, \"smi_li\": 0.4166666666666667}, {\"age\": 35.0, \"married\": 0.0, \"smi_li\": 0.25}, {\"age\": 35.0, \"married\": 1.0, \"smi_li\": 0.5833333333333334}, {\"age\": 36.0, \"married\": 0.0, \"smi_li\": 0.36363636363636365}, {\"age\": 36.0, \"married\": 1.0, \"smi_li\": 0.6}, {\"age\": 37.0, \"married\": 0.0, \"smi_li\": 0.14285714285714285}, {\"age\": 37.0, \"married\": 1.0, \"smi_li\": 0.5}, {\"age\": 38.0, \"married\": 0.0, \"smi_li\": 0.6666666666666666}, {\"age\": 38.0, \"married\": 1.0, \"smi_li\": 0.3333333333333333}, {\"age\": 39.0, \"married\": 0.0, \"smi_li\": 0.3}, {\"age\": 39.0, \"married\": 1.0, \"smi_li\": 0.5}, {\"age\": 40.0, \"married\": 0.0, \"smi_li\": 0.2222222222222222}, {\"age\": 40.0, \"married\": 1.0, \"smi_li\": 0.3333333333333333}, {\"age\": 41.0, \"married\": 0.0, \"smi_li\": 0.3333333333333333}, {\"age\": 41.0, \"married\": 1.0, \"smi_li\": 0.5}, {\"age\": 42.0, \"married\": 0.0, \"smi_li\": 0.4444444444444444}, {\"age\": 42.0, \"married\": 1.0, \"smi_li\": 0.6}, {\"age\": 43.0, \"married\": 0.0, \"smi_li\": 0.4}, {\"age\": 43.0, \"married\": 1.0, \"smi_li\": 0.3}, {\"age\": 44.0, \"married\": 0.0, \"smi_li\": 0.7777777777777778}, {\"age\": 44.0, \"married\": 1.0, \"smi_li\": 0.5}, {\"age\": 45.0, \"married\": 0.0, \"smi_li\": 0.25}, {\"age\": 45.0, \"married\": 1.0, \"smi_li\": 0.4}, {\"age\": 46.0, \"married\": 0.0, \"smi_li\": 0.3333333333333333}, {\"age\": 46.0, \"married\": 1.0, \"smi_li\": 0.5714285714285714}, {\"age\": 47.0, \"married\": 0.0, \"smi_li\": 0.5}, {\"age\": 47.0, \"married\": 1.0, \"smi_li\": 0.4}, {\"age\": 48.0, \"married\": 0.0, \"smi_li\": 0.125}, {\"age\": 48.0, \"married\": 1.0, \"smi_li\": 0.25}, {\"age\": 49.0, \"married\": 0.0, \"smi_li\": 0.3333333333333333}, {\"age\": 49.0, \"married\": 1.0, \"smi_li\": 0.6428571428571429}, {\"age\": 50.0, \"married\": 0.0, \"smi_li\": 0.5}, {\"age\": 50.0, \"married\": 1.0, \"smi_li\": 0.46153846153846156}, {\"age\": 51.0, \"married\": 0.0, \"smi_li\": 0.25}, {\"age\": 51.0, \"married\": 1.0, \"smi_li\": 0.36363636363636365}, {\"age\": 52.0, \"married\": 0.0, \"smi_li\": 0.5}, {\"age\": 52.0, \"married\": 1.0, \"smi_li\": 0.5384615384615384}, {\"age\": 53.0, \"married\": 0.0, \"smi_li\": 0.3333333333333333}, {\"age\": 53.0, \"married\": 1.0, \"smi_li\": 0.36363636363636365}, {\"age\": 54.0, \"married\": 0.0, \"smi_li\": 0.3333333333333333}, {\"age\": 54.0, \"married\": 1.0, \"smi_li\": 0.6}, {\"age\": 55.0, \"married\": 0.0, \"smi_li\": 0.2727272727272727}, {\"age\": 55.0, \"married\": 1.0, \"smi_li\": 0.5}, {\"age\": 56.0, \"married\": 0.0, \"smi_li\": 0.3}, {\"age\": 56.0, \"married\": 1.0, \"smi_li\": 0.5454545454545454}, {\"age\": 57.0, \"married\": 0.0, \"smi_li\": 0.42857142857142855}, {\"age\": 57.0, \"married\": 1.0, \"smi_li\": 0.8}, {\"age\": 58.0, \"married\": 0.0, \"smi_li\": 0.42857142857142855}, {\"age\": 58.0, \"married\": 1.0, \"smi_li\": 0.7272727272727273}, {\"age\": 59.0, \"married\": 0.0, \"smi_li\": 0.16666666666666666}, {\"age\": 59.0, \"married\": 1.0, \"smi_li\": 0.6666666666666666}, {\"age\": 60.0, \"married\": 0.0, \"smi_li\": 0.15789473684210525}, {\"age\": 60.0, \"married\": 1.0, \"smi_li\": 0.25}, {\"age\": 61.0, \"married\": 0.0, \"smi_li\": 0.625}, {\"age\": 61.0, \"married\": 1.0, \"smi_li\": 0.5333333333333333}, {\"age\": 62.0, \"married\": 0.0, \"smi_li\": 0.2631578947368421}, {\"age\": 62.0, \"married\": 1.0, \"smi_li\": 0.2777777777777778}, {\"age\": 63.0, \"married\": 0.0, \"smi_li\": 0.2}, {\"age\": 63.0, \"married\": 1.0, \"smi_li\": 0.3333333333333333}, {\"age\": 64.0, \"married\": 0.0, \"smi_li\": 0.3076923076923077}, {\"age\": 64.0, \"married\": 1.0, \"smi_li\": 0.3333333333333333}, {\"age\": 65.0, \"married\": 0.0, \"smi_li\": 0.15384615384615385}, {\"age\": 65.0, \"married\": 1.0, \"smi_li\": 0.34615384615384615}, {\"age\": 66.0, \"married\": 0.0, \"smi_li\": 0.09090909090909091}, {\"age\": 66.0, \"married\": 1.0, \"smi_li\": 0.09090909090909091}, {\"age\": 67.0, \"married\": 0.0, \"smi_li\": 0.3333333333333333}, {\"age\": 67.0, \"married\": 1.0, \"smi_li\": 0.1875}, {\"age\": 68.0, \"married\": 0.0, \"smi_li\": 0.36363636363636365}, {\"age\": 68.0, \"married\": 1.0, \"smi_li\": 0.2222222222222222}, {\"age\": 69.0, \"married\": 0.0, \"smi_li\": 0.0}, {\"age\": 69.0, \"married\": 1.0, \"smi_li\": 0.5555555555555556}, {\"age\": 70.0, \"married\": 0.0, \"smi_li\": 0.06666666666666667}, {\"age\": 70.0, \"married\": 1.0, \"smi_li\": 0.05263157894736842}, {\"age\": 71.0, \"married\": 0.0, \"smi_li\": 0.0}, {\"age\": 71.0, \"married\": 1.0, \"smi_li\": 0.2727272727272727}, {\"age\": 72.0, \"married\": 0.0, \"smi_li\": 0.375}, {\"age\": 72.0, \"married\": 1.0, \"smi_li\": 0.5714285714285714}, {\"age\": 73.0, \"married\": 0.0, \"smi_li\": 0.1111111111111111}, {\"age\": 73.0, \"married\": 1.0, \"smi_li\": 0.125}, {\"age\": 74.0, \"married\": 0.0, \"smi_li\": 0.0}, {\"age\": 74.0, \"married\": 1.0, \"smi_li\": 0.0}, {\"age\": 75.0, \"married\": 0.0, \"smi_li\": 0.6}, {\"age\": 75.0, \"married\": 1.0, \"smi_li\": 0.3}, {\"age\": 76.0, \"married\": 0.0, \"smi_li\": 0.0}, {\"age\": 76.0, \"married\": 1.0, \"smi_li\": 0.4}, {\"age\": 77.0, \"married\": 0.0, \"smi_li\": 0.125}, {\"age\": 77.0, \"married\": 1.0, \"smi_li\": 0.4}, {\"age\": 78.0, \"married\": 0.0, \"smi_li\": 0.0}, {\"age\": 78.0, \"married\": 1.0, \"smi_li\": 0.0}, {\"age\": 79.0, \"married\": 0.0, \"smi_li\": 0.14285714285714285}, {\"age\": 79.0, \"married\": 1.0, \"smi_li\": 0.3333333333333333}, {\"age\": 80.0, \"married\": 0.0, \"smi_li\": 0.0}, {\"age\": 80.0, \"married\": 1.0, \"smi_li\": 0.0}, {\"age\": 81.0, \"married\": 0.0, \"smi_li\": 0.0}, {\"age\": 81.0, \"married\": 1.0, \"smi_li\": 0.0}, {\"age\": 82.0, \"married\": 0.0, \"smi_li\": 0.2857142857142857}, {\"age\": 83.0, \"married\": 0.0, \"smi_li\": 0.125}, {\"age\": 84.0, \"married\": 0.0, \"smi_li\": 0.0}, {\"age\": 84.0, \"married\": 1.0, \"smi_li\": 0.0}, {\"age\": 85.0, \"married\": 0.0, \"smi_li\": 0.0}, {\"age\": 85.0, \"married\": 1.0, \"smi_li\": 0.0}, {\"age\": 86.0, \"married\": 0.0, \"smi_li\": 0.0}, {\"age\": 86.0, \"married\": 1.0, \"smi_li\": 0.0}, {\"age\": 87.0, \"married\": 0.0, \"smi_li\": 0.0}, {\"age\": 87.0, \"married\": 1.0, \"smi_li\": 0.0}, {\"age\": 88.0, \"married\": 0.0, \"smi_li\": 0.0}, {\"age\": 88.0, \"married\": 1.0, \"smi_li\": 0.0}, {\"age\": 89.0, \"married\": 1.0, \"smi_li\": 0.0}, {\"age\": 90.0, \"married\": 0.0, \"smi_li\": 0.0}, {\"age\": 92.0, \"married\": 0.0, \"smi_li\": 0.0}, {\"age\": 92.0, \"married\": 1.0, \"smi_li\": 0.0}, {\"age\": 93.0, \"married\": 0.0, \"smi_li\": 0.0}, {\"age\": 94.0, \"married\": 0.0, \"smi_li\": 0.0}, {\"age\": 97.0, \"married\": 0.0, \"smi_li\": 0.0}]}}, {\"mode\": \"vega-lite\"});\n",
       "</script>"
      ],
      "text/plain": [
       "alt.Chart(...)"
      ]
     },
     "execution_count": 8,
     "metadata": {},
     "output_type": "execute_result"
    }
   ],
   "source": [
    "#Exploratory Analysis: \n",
    "\n",
    "#Predictor Variables (Age & Married) Analysis to Target Variable \n",
    "\n",
    "alt.Chart(ss.groupby([\"age\", \"married\"], as_index=False)[\"smi_li\"].mean()).\\\n",
    "mark_circle().\\\n",
    "encode(x=\"age\",\n",
    "      y=\"smi_li\",\n",
    "      color=\"married:N\")"
   ]
  },
  {
   "cell_type": "markdown",
   "metadata": {},
   "source": [
    "#### Q4: Create a target vector (y) and feature set (X)"
   ]
  },
  {
   "cell_type": "code",
   "execution_count": 9,
   "metadata": {},
   "outputs": [],
   "source": [
    "y = ss[\"smi_li\"]\n",
    "X = ss[[\"income\", \"education\", \"parent\", \"married\", \"female\", \"age\"]]"
   ]
  },
  {
   "cell_type": "markdown",
   "metadata": {},
   "source": [
    "#### Q5: Split the data into training and test sets. Hold out 20% of the data for testing. Explain what each new object contains and how it is used in machine learning"
   ]
  },
  {
   "cell_type": "markdown",
   "metadata": {},
   "source": [
    "Written Answer: \n",
    "\n",
    "The X_train variable are the dependent variables of our training set, while y_train is its target variable output. The X_train and y_train variables are part of the same row and are a subset (80% of our full data). The X_train and y_train variables are what we will build our logistical regression model off of. \n",
    "\n",
    "Meanwhile 20% of our full data is in the \"test\" set, this include the X_test and y_test. Once our model is built from the training data we will use the X_test variables to generate predictions, we will then compare these predictions to the actual target output (i.e., the y_test). "
   ]
  },
  {
   "cell_type": "code",
   "execution_count": 10,
   "metadata": {},
   "outputs": [],
   "source": [
    "X_train, X_test, y_train, y_test = train_test_split(X,\n",
    "                                                    y,\n",
    "                                                    stratify=y,       \n",
    "                                                    test_size=0.2,   \n",
    "                                                    random_state=987)"
   ]
  },
  {
   "cell_type": "markdown",
   "metadata": {},
   "source": [
    "#### Q6: Instantiate a logistic regression model and set class_weight to balanced. Fit the model with the training data."
   ]
  },
  {
   "cell_type": "code",
   "execution_count": 11,
   "metadata": {},
   "outputs": [
    {
     "data": {
      "text/html": [
       "<style>#sk-container-id-1 {color: black;background-color: white;}#sk-container-id-1 pre{padding: 0;}#sk-container-id-1 div.sk-toggleable {background-color: white;}#sk-container-id-1 label.sk-toggleable__label {cursor: pointer;display: block;width: 100%;margin-bottom: 0;padding: 0.3em;box-sizing: border-box;text-align: center;}#sk-container-id-1 label.sk-toggleable__label-arrow:before {content: \"▸\";float: left;margin-right: 0.25em;color: #696969;}#sk-container-id-1 label.sk-toggleable__label-arrow:hover:before {color: black;}#sk-container-id-1 div.sk-estimator:hover label.sk-toggleable__label-arrow:before {color: black;}#sk-container-id-1 div.sk-toggleable__content {max-height: 0;max-width: 0;overflow: hidden;text-align: left;background-color: #f0f8ff;}#sk-container-id-1 div.sk-toggleable__content pre {margin: 0.2em;color: black;border-radius: 0.25em;background-color: #f0f8ff;}#sk-container-id-1 input.sk-toggleable__control:checked~div.sk-toggleable__content {max-height: 200px;max-width: 100%;overflow: auto;}#sk-container-id-1 input.sk-toggleable__control:checked~label.sk-toggleable__label-arrow:before {content: \"▾\";}#sk-container-id-1 div.sk-estimator input.sk-toggleable__control:checked~label.sk-toggleable__label {background-color: #d4ebff;}#sk-container-id-1 div.sk-label input.sk-toggleable__control:checked~label.sk-toggleable__label {background-color: #d4ebff;}#sk-container-id-1 input.sk-hidden--visually {border: 0;clip: rect(1px 1px 1px 1px);clip: rect(1px, 1px, 1px, 1px);height: 1px;margin: -1px;overflow: hidden;padding: 0;position: absolute;width: 1px;}#sk-container-id-1 div.sk-estimator {font-family: monospace;background-color: #f0f8ff;border: 1px dotted black;border-radius: 0.25em;box-sizing: border-box;margin-bottom: 0.5em;}#sk-container-id-1 div.sk-estimator:hover {background-color: #d4ebff;}#sk-container-id-1 div.sk-parallel-item::after {content: \"\";width: 100%;border-bottom: 1px solid gray;flex-grow: 1;}#sk-container-id-1 div.sk-label:hover label.sk-toggleable__label {background-color: #d4ebff;}#sk-container-id-1 div.sk-serial::before {content: \"\";position: absolute;border-left: 1px solid gray;box-sizing: border-box;top: 0;bottom: 0;left: 50%;z-index: 0;}#sk-container-id-1 div.sk-serial {display: flex;flex-direction: column;align-items: center;background-color: white;padding-right: 0.2em;padding-left: 0.2em;position: relative;}#sk-container-id-1 div.sk-item {position: relative;z-index: 1;}#sk-container-id-1 div.sk-parallel {display: flex;align-items: stretch;justify-content: center;background-color: white;position: relative;}#sk-container-id-1 div.sk-item::before, #sk-container-id-1 div.sk-parallel-item::before {content: \"\";position: absolute;border-left: 1px solid gray;box-sizing: border-box;top: 0;bottom: 0;left: 50%;z-index: -1;}#sk-container-id-1 div.sk-parallel-item {display: flex;flex-direction: column;z-index: 1;position: relative;background-color: white;}#sk-container-id-1 div.sk-parallel-item:first-child::after {align-self: flex-end;width: 50%;}#sk-container-id-1 div.sk-parallel-item:last-child::after {align-self: flex-start;width: 50%;}#sk-container-id-1 div.sk-parallel-item:only-child::after {width: 0;}#sk-container-id-1 div.sk-dashed-wrapped {border: 1px dashed gray;margin: 0 0.4em 0.5em 0.4em;box-sizing: border-box;padding-bottom: 0.4em;background-color: white;}#sk-container-id-1 div.sk-label label {font-family: monospace;font-weight: bold;display: inline-block;line-height: 1.2em;}#sk-container-id-1 div.sk-label-container {text-align: center;}#sk-container-id-1 div.sk-container {/* jupyter's `normalize.less` sets `[hidden] { display: none; }` but bootstrap.min.css set `[hidden] { display: none !important; }` so we also need the `!important` here to be able to override the default hidden behavior on the sphinx rendered scikit-learn.org. See: https://github.com/scikit-learn/scikit-learn/issues/21755 */display: inline-block !important;position: relative;}#sk-container-id-1 div.sk-text-repr-fallback {display: none;}</style><div id=\"sk-container-id-1\" class=\"sk-top-container\"><div class=\"sk-text-repr-fallback\"><pre>LogisticRegression(class_weight=&#x27;balanced&#x27;)</pre><b>In a Jupyter environment, please rerun this cell to show the HTML representation or trust the notebook. <br />On GitHub, the HTML representation is unable to render, please try loading this page with nbviewer.org.</b></div><div class=\"sk-container\" hidden><div class=\"sk-item\"><div class=\"sk-estimator sk-toggleable\"><input class=\"sk-toggleable__control sk-hidden--visually\" id=\"sk-estimator-id-1\" type=\"checkbox\" checked><label for=\"sk-estimator-id-1\" class=\"sk-toggleable__label sk-toggleable__label-arrow\">LogisticRegression</label><div class=\"sk-toggleable__content\"><pre>LogisticRegression(class_weight=&#x27;balanced&#x27;)</pre></div></div></div></div></div>"
      ],
      "text/plain": [
       "LogisticRegression(class_weight='balanced')"
      ]
     },
     "execution_count": 11,
     "metadata": {},
     "output_type": "execute_result"
    }
   ],
   "source": [
    "#Instantiating the logistical regression model and setting class_weight to balanced: \n",
    "lr = LogisticRegression(class_weight = \"balanced\")\n",
    "\n",
    "#Fitting the model with the training data:\n",
    "lr.fit(X_train, y_train)"
   ]
  },
  {
   "cell_type": "markdown",
   "metadata": {},
   "source": [
    "#### Q7: Evaluate the model using the testing data. What is the model accuracy for the model? Use the model to make predictions and then generate a confusion matrix from the model. Interpret the confusion matrix and explain what each number means."
   ]
  },
  {
   "cell_type": "markdown",
   "metadata": {},
   "source": [
    "Written Answer: \n",
    "\n",
    "Our model accuracy is 71% (calculated via classification_report() function). This indiciates that the (correct predictions/total predictions) comes out to approximately 71%. \n",
    "\n",
    "\n",
    "Our confusion matrix indicates that the number of true positives (i.e., actual is value positive and model predicted positive) are 62, the number of true negatives are 116 (i.e., actual value is negative and model predicted negative), the number of false positives are 51 (i.e., actual value is negative and model predicted positive), the number of false negatives are 22 (actual value is positive and model predicted negative). "
   ]
  },
  {
   "cell_type": "code",
   "execution_count": 12,
   "metadata": {},
   "outputs": [
    {
     "name": "stdout",
     "output_type": "stream",
     "text": [
      "              precision    recall  f1-score   support\n",
      "\n",
      "           0       0.84      0.69      0.76       167\n",
      "           1       0.55      0.74      0.63        84\n",
      "\n",
      "    accuracy                           0.71       251\n",
      "   macro avg       0.69      0.72      0.70       251\n",
      "weighted avg       0.74      0.71      0.72       251\n",
      "\n",
      "Based on the above classification_report, above, our model accuracy is 71%\n"
     ]
    }
   ],
   "source": [
    "#Creating Predictions from testing data: \n",
    "y_pred = lr.predict(X_test)\n",
    "\n",
    "#Model Accuracy: \n",
    "print(classification_report(y_test, y_pred))\n",
    "\n",
    "print(f\"Based on the above classification_report, above, our model accuracy is 71%\")"
   ]
  },
  {
   "cell_type": "code",
   "execution_count": 13,
   "metadata": {},
   "outputs": [
    {
     "data": {
      "text/plain": [
       "array([[116,  51],\n",
       "       [ 22,  62]], dtype=int64)"
      ]
     },
     "execution_count": 13,
     "metadata": {},
     "output_type": "execute_result"
    }
   ],
   "source": [
    "#Confusion Matrix: \n",
    "confusion_matrix(y_test, y_pred)"
   ]
  },
  {
   "cell_type": "markdown",
   "metadata": {},
   "source": [
    "#### Q8: Create the confusion matrix as a dataframe and add informative column names and index names that indicate what each quadrant represents"
   ]
  },
  {
   "cell_type": "code",
   "execution_count": 14,
   "metadata": {},
   "outputs": [
    {
     "data": {
      "text/html": [
       "<style type=\"text/css\">\n",
       "#T_3b234_row0_col0, #T_3b234_row1_col1 {\n",
       "  background-color: #276419;\n",
       "  color: #f1f1f1;\n",
       "}\n",
       "#T_3b234_row0_col1, #T_3b234_row1_col0 {\n",
       "  background-color: #8e0152;\n",
       "  color: #f1f1f1;\n",
       "}\n",
       "</style>\n",
       "<table id=\"T_3b234\">\n",
       "  <thead>\n",
       "    <tr>\n",
       "      <th class=\"blank level0\" >&nbsp;</th>\n",
       "      <th id=\"T_3b234_level0_col0\" class=\"col_heading level0 col0\" >Predicted negative</th>\n",
       "      <th id=\"T_3b234_level0_col1\" class=\"col_heading level0 col1\" >Predicted positive</th>\n",
       "    </tr>\n",
       "  </thead>\n",
       "  <tbody>\n",
       "    <tr>\n",
       "      <th id=\"T_3b234_level0_row0\" class=\"row_heading level0 row0\" >Actual negative</th>\n",
       "      <td id=\"T_3b234_row0_col0\" class=\"data row0 col0\" >116</td>\n",
       "      <td id=\"T_3b234_row0_col1\" class=\"data row0 col1\" >51</td>\n",
       "    </tr>\n",
       "    <tr>\n",
       "      <th id=\"T_3b234_level0_row1\" class=\"row_heading level0 row1\" >Actual positive</th>\n",
       "      <td id=\"T_3b234_row1_col0\" class=\"data row1 col0\" >22</td>\n",
       "      <td id=\"T_3b234_row1_col1\" class=\"data row1 col1\" >62</td>\n",
       "    </tr>\n",
       "  </tbody>\n",
       "</table>\n"
      ],
      "text/plain": [
       "<pandas.io.formats.style.Styler at 0x2990b099590>"
      ]
     },
     "execution_count": 14,
     "metadata": {},
     "output_type": "execute_result"
    }
   ],
   "source": [
    "#Confusion Matrix with Informative column names: \n",
    "pd.DataFrame(confusion_matrix(y_test, y_pred),\n",
    "            columns=[\"Predicted negative\", \"Predicted positive\"],\n",
    "            index=[\"Actual negative\",\"Actual positive\"]).style.background_gradient(cmap=\"PiYG\")"
   ]
  },
  {
   "cell_type": "markdown",
   "metadata": {},
   "source": [
    "#### Q9: Aside from accuracy, there are three other metrics used to evaluate model performance: precision, recall, and F1 score. Use the results in the confusion matrix to calculate each of these metrics by hand. Discuss each metric and give an actual example of when it might be the preferred metric of evaluation. After calculating the metrics by hand, create a classification_report using sklearn and check to ensure your metrics match those of the classification_report."
   ]
  },
  {
   "cell_type": "markdown",
   "metadata": {},
   "source": [
    "Written Answer: \n",
    "\n",
    "Precision is more useful when the goal of the model is to minimizes the number of false positives, in medicine like cancer screening the goal is to avoid falsely indicating a patient has cancer as the treatment may come at a high cost to the patient. \n",
    "\n",
    "Recall is more useful when the goal of the model is to minimize the number of false negatives, in certain instances like that of fraud it is more important to catch the positives, in this instance a false positive can quickly be resolved, but a false negative can have higher consequences.  \n",
    "\n",
    "F1 Score is more useful when both false positives and false negatives are just as important, it provides a middle ground between precision and recall. "
   ]
  },
  {
   "cell_type": "code",
   "execution_count": 15,
   "metadata": {},
   "outputs": [
    {
     "name": "stdout",
     "output_type": "stream",
     "text": [
      "The hand calculated precision score is 0.5486725663716814\n",
      "The hand calculated recall score is 0.7380952380952381\n",
      "The hand calculated F1 Score is 0.6294416243654822\n",
      "\n",
      "Below is the classification report which corrborates the handcalculations: \n",
      "               precision    recall  f1-score   support\n",
      "\n",
      "           0       0.84      0.69      0.76       167\n",
      "           1       0.55      0.74      0.63        84\n",
      "\n",
      "    accuracy                           0.71       251\n",
      "   macro avg       0.69      0.72      0.70       251\n",
      "weighted avg       0.74      0.71      0.72       251\n",
      "\n"
     ]
    }
   ],
   "source": [
    "#Calculating Metrics by Hand: \n",
    "precision = 62/(62+51) #Calculated via TP/(TP+FP)\n",
    "recall = 62/(62+22)    #Calculated via TP/(TP+FN)\n",
    "\n",
    "F1_numerator = precision*recall \n",
    "F1_demnominator = precision+recall \n",
    "F1_score = 2*(F1_numerator/F1_demnominator) #Calculated via 2((precision/recall)/(precision+recall))\n",
    "\n",
    "print(f\"The hand calculated precision score is {precision}\")\n",
    "print(f\"The hand calculated recall score is {recall}\")\n",
    "print(f\"The hand calculated F1 Score is {F1_score}\\n\")\n",
    "\n",
    "#Clasification Report to ensure metrics match: \n",
    "print(f\"Below is the classification report which corrborates the handcalculations: \\n {classification_report(y_test, y_pred)}\")"
   ]
  },
  {
   "cell_type": "markdown",
   "metadata": {},
   "source": [
    "#### Q10: Use the model to make predictions. For instance, what is the probability that a high income (e.g. income=8), with a high level of education (e.g. 7), non-parent who is married female and 42 years old uses LinkedIn? How does the probability change if another person is 82 years old, but otherwise the same?"
   ]
  },
  {
   "cell_type": "markdown",
   "metadata": {},
   "source": [
    "Written Answer: \n",
    "\n",
    "newdata_p1 (i.e., intial dataset) contains the data for the 42 year old, meanwhile newdata_p2 (i.e., updated dataset) contains data for the 82 year old. All other factors are the same between the datasets. \n",
    "\n",
    "The prediction of the model changes when the age of the user is changed. In the case of the 42 year old the model predicted the person would be a LinkedIn. While in the case of the 82 year old the model predicted the person would not be a LinkedIn user. "
   ]
  },
  {
   "cell_type": "code",
   "execution_count": 16,
   "metadata": {},
   "outputs": [
    {
     "name": "stdout",
     "output_type": "stream",
     "text": [
      "The inital dataset can be found here:\n",
      " [8, 7, 1, 1, 1, 42]\n",
      " The updated dataset can be found here:\n",
      " [8, 7, 1, 1, 1, 82]\n",
      "\n",
      "The inital dataset model prediction can be found here:\n",
      " 1\n",
      " The updated dataset model prediction can be found here:\n",
      " 0\n",
      "\n",
      "The inital dataset model probability of being a LinkedIn user can be found here:\n",
      " 0.7242797232801137\n",
      " The updated dataset model probability of being a LinkedIn user can be found here:\n",
      " 0.4888121632765549\n"
     ]
    },
    {
     "name": "stderr",
     "output_type": "stream",
     "text": [
      "C:\\ProgramData\\anaconda3\\Lib\\site-packages\\sklearn\\base.py:439: UserWarning: X does not have valid feature names, but LogisticRegression was fitted with feature names\n",
      "  warnings.warn(\n",
      "C:\\ProgramData\\anaconda3\\Lib\\site-packages\\sklearn\\base.py:439: UserWarning: X does not have valid feature names, but LogisticRegression was fitted with feature names\n",
      "  warnings.warn(\n",
      "C:\\ProgramData\\anaconda3\\Lib\\site-packages\\sklearn\\base.py:439: UserWarning: X does not have valid feature names, but LogisticRegression was fitted with feature names\n",
      "  warnings.warn(\n",
      "C:\\ProgramData\\anaconda3\\Lib\\site-packages\\sklearn\\base.py:439: UserWarning: X does not have valid feature names, but LogisticRegression was fitted with feature names\n",
      "  warnings.warn(\n"
     ]
    }
   ],
   "source": [
    "#The prediction Data: \n",
    "newdata_p1 = [8,7,1,1,1,42]\n",
    "newdata_p2 = [8,7,1,1,1,82]\n",
    "\n",
    "\n",
    "#Making Predictions: \n",
    "predicted_class1 = lr.predict([newdata_p1])\n",
    "predicted_class2 = lr.predict([newdata_p2])\n",
    "\n",
    "#Generating the Probability: \n",
    "prob1 = lr.predict_proba([newdata_p1])\n",
    "prob2 = lr.predict_proba([newdata_p2])\n",
    "\n",
    "print(f\"The inital dataset can be found here:\\n {newdata_p1}\\n The updated dataset can be found here:\\n {newdata_p2}\\n\")\n",
    "\n",
    "\n",
    "print(f\"The inital dataset model prediction can be found here:\\n {predicted_class1[0]}\\n The updated dataset model prediction can be found here:\\n {predicted_class2[0]}\\n\") #0 means not a LinkedIn user. \n",
    "print(f\"The inital dataset model probability of being a LinkedIn user can be found here:\\n {prob1[0][1]}\\n The updated dataset model probability of being a LinkedIn user can be found here:\\n {prob2[0][1]}\")"
   ]
  }
 ],
 "metadata": {
  "kernelspec": {
   "display_name": "Python 3 (ipykernel)",
   "language": "python",
   "name": "python3"
  },
  "language_info": {
   "codemirror_mode": {
    "name": "ipython",
    "version": 3
   },
   "file_extension": ".py",
   "mimetype": "text/x-python",
   "name": "python",
   "nbconvert_exporter": "python",
   "pygments_lexer": "ipython3",
   "version": "3.11.3"
  }
 },
 "nbformat": 4,
 "nbformat_minor": 4
}
